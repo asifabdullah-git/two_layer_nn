{
  "nbformat": 4,
  "nbformat_minor": 0,
  "metadata": {
    "colab": {
      "name": "salary prediction_NN.ipynb",
      "provenance": [],
      "authorship_tag": "ABX9TyPoi3zYg5AAjnZVoXiFaZSR",
      "include_colab_link": true
    },
    "kernelspec": {
      "name": "python3",
      "display_name": "Python 3"
    },
    "language_info": {
      "name": "python"
    }
  },
  "cells": [
    {
      "cell_type": "markdown",
      "metadata": {
        "id": "view-in-github",
        "colab_type": "text"
      },
      "source": [
        "<a href=\"https://colab.research.google.com/github/asifabdullah-git/two_layer_nn/blob/main/Code/salary_prediction_NN.ipynb\" target=\"_parent\"><img src=\"https://colab.research.google.com/assets/colab-badge.svg\" alt=\"Open In Colab\"/></a>"
      ]
    },
    {
      "cell_type": "code",
      "metadata": {
        "id": "iUC8c0eTuawR"
      },
      "source": [
        ""
      ],
      "execution_count": null,
      "outputs": []
    },
    {
      "cell_type": "code",
      "metadata": {
        "id": "DXSCLRFQufc9"
      },
      "source": [
        "import numpy as np\n",
        "import pandas as pd\n",
        "from pandas import DataFrame, Series\n",
        "import matplotlib.pyplot as plt\n",
        "%matplotlib inline\n",
        "\n",
        "import tensorflow as tf\n",
        "from tensorflow import keras\n",
        "from tensorflow.keras import layers\n",
        "from keras import metrics"
      ],
      "execution_count": null,
      "outputs": []
    },
    {
      "cell_type": "code",
      "metadata": {
        "id": "nxWLhADlukiW"
      },
      "source": [
        "url = 'https://raw.githubusercontent.com/asifabdullah-git/two_layer_nn/main/Data/Salary_Data.csv'\n",
        "df = pd.read_csv(url, encoding='utf-8')"
      ],
      "execution_count": null,
      "outputs": []
    },
    {
      "cell_type": "code",
      "metadata": {
        "colab": {
          "base_uri": "https://localhost:8080/",
          "height": 203
        },
        "id": "KZXFKv4Our8w",
        "outputId": "7d154eab-6516-4e28-b821-ae3b7ce7ca5e"
      },
      "source": [
        "df.head()"
      ],
      "execution_count": null,
      "outputs": [
        {
          "output_type": "execute_result",
          "data": {
            "text/html": [
              "<div>\n",
              "<style scoped>\n",
              "    .dataframe tbody tr th:only-of-type {\n",
              "        vertical-align: middle;\n",
              "    }\n",
              "\n",
              "    .dataframe tbody tr th {\n",
              "        vertical-align: top;\n",
              "    }\n",
              "\n",
              "    .dataframe thead th {\n",
              "        text-align: right;\n",
              "    }\n",
              "</style>\n",
              "<table border=\"1\" class=\"dataframe\">\n",
              "  <thead>\n",
              "    <tr style=\"text-align: right;\">\n",
              "      <th></th>\n",
              "      <th>YearsExperience</th>\n",
              "      <th>Annual Salary(Naira)</th>\n",
              "    </tr>\n",
              "  </thead>\n",
              "  <tbody>\n",
              "    <tr>\n",
              "      <th>0</th>\n",
              "      <td>0.0</td>\n",
              "      <td>487500.0</td>\n",
              "    </tr>\n",
              "    <tr>\n",
              "      <th>1</th>\n",
              "      <td>1.1</td>\n",
              "      <td>1310537.5</td>\n",
              "    </tr>\n",
              "    <tr>\n",
              "      <th>2</th>\n",
              "      <td>1.3</td>\n",
              "      <td>1396312.5</td>\n",
              "    </tr>\n",
              "    <tr>\n",
              "      <th>3</th>\n",
              "      <td>1.5</td>\n",
              "      <td>1290387.5</td>\n",
              "    </tr>\n",
              "    <tr>\n",
              "      <th>4</th>\n",
              "      <td>2.0</td>\n",
              "      <td>1362812.5</td>\n",
              "    </tr>\n",
              "  </tbody>\n",
              "</table>\n",
              "</div>"
            ],
            "text/plain": [
              "   YearsExperience  Annual Salary(Naira)\n",
              "0              0.0              487500.0\n",
              "1              1.1             1310537.5\n",
              "2              1.3             1396312.5\n",
              "3              1.5             1290387.5\n",
              "4              2.0             1362812.5"
            ]
          },
          "metadata": {
            "tags": []
          },
          "execution_count": 63
        }
      ]
    },
    {
      "cell_type": "code",
      "metadata": {
        "colab": {
          "base_uri": "https://localhost:8080/"
        },
        "id": "4KKjKHOtuw1M",
        "outputId": "a65f84c2-8e6e-4200-e6ee-31f6da3b972c"
      },
      "source": [
        "print(df.shape)\n",
        "print(df.dtypes)"
      ],
      "execution_count": null,
      "outputs": [
        {
          "output_type": "stream",
          "text": [
            "(31, 2)\n",
            "YearsExperience         float64\n",
            "Annual Salary(Naira)    float64\n",
            "dtype: object\n"
          ],
          "name": "stdout"
        }
      ]
    },
    {
      "cell_type": "code",
      "metadata": {
        "colab": {
          "base_uri": "https://localhost:8080/",
          "height": 290
        },
        "id": "xNgMr9tC7W7P",
        "outputId": "d35c67b2-a3dd-4392-b620-843ac3fdd58d"
      },
      "source": [
        "data = pd.concat([df['Annual Salary(Naira)'], df['YearsExperience']], axis=1)\n",
        "data.plot.scatter(x='YearsExperience', y='Annual Salary(Naira)');"
      ],
      "execution_count": null,
      "outputs": [
        {
          "output_type": "display_data",
          "data": {
            "image/png": "[encoded data removed]",
            "text/plain": [
              "<Figure size 432x288 with 1 Axes>"
            ]
          },
          "metadata": {
            "tags": [],
            "needs_background": "light"
          }
        }
      ]
    },
    {
      "cell_type": "code",
      "metadata": {
        "colab": {
          "base_uri": "https://localhost:8080/",
          "height": 110
        },
        "id": "i8uKmPyvvJA4",
        "outputId": "00eeda92-22d9-4ad9-ddc4-19272f3ba990"
      },
      "source": [
        "# Number of missing in each column\n",
        "missing = pd.DataFrame(df.isnull().sum()).rename(columns = {0: 'total_missing'})\n",
        "missing"
      ],
      "execution_count": null,
      "outputs": [
        {
          "output_type": "execute_result",
          "data": {
            "text/html": [
              "<div>\n",
              "<style scoped>\n",
              "    .dataframe tbody tr th:only-of-type {\n",
              "        vertical-align: middle;\n",
              "    }\n",
              "\n",
              "    .dataframe tbody tr th {\n",
              "        vertical-align: top;\n",
              "    }\n",
              "\n",
              "    .dataframe thead th {\n",
              "        text-align: right;\n",
              "    }\n",
              "</style>\n",
              "<table border=\"1\" class=\"dataframe\">\n",
              "  <thead>\n",
              "    <tr style=\"text-align: right;\">\n",
              "      <th></th>\n",
              "      <th>total_missing</th>\n",
              "    </tr>\n",
              "  </thead>\n",
              "  <tbody>\n",
              "    <tr>\n",
              "      <th>YearsExperience</th>\n",
              "      <td>0</td>\n",
              "    </tr>\n",
              "    <tr>\n",
              "      <th>Annual Salary(Naira)</th>\n",
              "      <td>0</td>\n",
              "    </tr>\n",
              "  </tbody>\n",
              "</table>\n",
              "</div>"
            ],
            "text/plain": [
              "                      total_missing\n",
              "YearsExperience                   0\n",
              "Annual Salary(Naira)              0"
            ]
          },
          "metadata": {
            "tags": []
          },
          "execution_count": 66
        }
      ]
    },
    {
      "cell_type": "code",
      "metadata": {
        "id": "sdNKD7ukScuk"
      },
      "source": [
        "#Changing pandas dataframe to numpy array\n",
        "x = df.iloc[:,:1].values\n",
        "y = df.iloc[:,1:2].values"
      ],
      "execution_count": null,
      "outputs": []
    },
    {
      "cell_type": "code",
      "metadata": {
        "id": "o2i1eYl0yFty"
      },
      "source": [
        "from sklearn.preprocessing import MinMaxScaler\n",
        "\n",
        "norm = MinMaxScaler().fit(x)\n",
        "x = norm.transform(x)\n",
        "\n",
        "norm1 = MinMaxScaler().fit(y)\n",
        "y = norm1.transform(y)\n"
      ],
      "execution_count": null,
      "outputs": []
    },
    {
      "cell_type": "code",
      "metadata": {
        "id": "seDUu8oLSc0w"
      },
      "source": [
        "from sklearn.model_selection import train_test_split\n",
        "x_train,x_test,y_train,y_test = train_test_split(x,y,test_size = 0.3,random_state=42)\n"
      ],
      "execution_count": null,
      "outputs": []
    },
    {
      "cell_type": "code",
      "metadata": {
        "id": "ruFYt89nm8vM"
      },
      "source": [
        "from keras.models import Model\n",
        "from keras.layers import Input\n",
        "from keras.layers import Dense\n",
        "tf.random.set_seed(1)"
      ],
      "execution_count": null,
      "outputs": []
    },
    {
      "cell_type": "code",
      "metadata": {
        "id": "kPGcKrqYnA-9"
      },
      "source": [
        "#input layer\n",
        "visible = Input(shape=(1,))\n",
        "\n",
        "#Two hidden layers with 4 and 2 neurons\n",
        "hidden1 = Dense(4, activation='relu')(visible)\n",
        "hidden2 = Dense(2, activation='relu')(hidden1)\n",
        "\n",
        "# Output layer\n",
        "output = Dense(1,activation='linear')(hidden2)"
      ],
      "execution_count": null,
      "outputs": []
    },
    {
      "cell_type": "code",
      "metadata": {
        "id": "fADfPzAvnNwC"
      },
      "source": [
        "model = Model(inputs=visible, outputs=output)"
      ],
      "execution_count": null,
      "outputs": []
    },
    {
      "cell_type": "code",
      "metadata": {
        "colab": {
          "base_uri": "https://localhost:8080/"
        },
        "id": "fRKdcLFynQSQ",
        "outputId": "f267abd6-6faa-4589-b21a-c35746f7cb97"
      },
      "source": [
        "# summarize layers\n",
        "model.summary()"
      ],
      "execution_count": null,
      "outputs": [
        {
          "output_type": "stream",
          "text": [
            "Model: \"model_3\"\n",
            "_________________________________________________________________\n",
            "Layer (type)                 Output Shape              Param #   \n",
            "=================================================================\n",
            "input_4 (InputLayer)         [(None, 1)]               0         \n",
            "_________________________________________________________________\n",
            "dense_9 (Dense)              (None, 4)                 8         \n",
            "_________________________________________________________________\n",
            "dense_10 (Dense)             (None, 2)                 10        \n",
            "_________________________________________________________________\n",
            "dense_11 (Dense)             (None, 1)                 3         \n",
            "=================================================================\n",
            "Total params: 21\n",
            "Trainable params: 21\n",
            "Non-trainable params: 0\n",
            "_________________________________________________________________\n"
          ],
          "name": "stdout"
        }
      ]
    },
    {
      "cell_type": "code",
      "metadata": {
        "id": "s0wcihC1nb1A"
      },
      "source": [
        "#using SGD optimizer\n",
        "opt = tf.keras.optimizers.SGD(learning_rate=0.005, momentum=0.9,clipnorm=0.5)\n",
        "\n",
        "model.compile(loss='mean_squared_error', optimizer=opt, \n",
        "              metrics=[metrics.mean_squared_error, \n",
        "                       metrics.mean_absolute_error, \n",
        "                       metrics.mean_absolute_percentage_error])"
      ],
      "execution_count": null,
      "outputs": []
    },
    {
      "cell_type": "code",
      "metadata": {
        "id": "nUPWcUp2vvnq"
      },
      "source": [
        "#callback function for reducing overfitting\n",
        "callback = tf.keras.callbacks.EarlyStopping(monitor='mean_squared_error', patience=3)"
      ],
      "execution_count": null,
      "outputs": []
    },
    {
      "cell_type": "code",
      "metadata": {
        "colab": {
          "base_uri": "https://localhost:8080/"
        },
        "id": "O0RG4_Yjnvq8",
        "outputId": "9ffbfaa7-bda7-4c7b-d102-1ee9066d9028"
      },
      "source": [
        "history = model.fit(x=x_train, y=y_train, batch_size=32, epochs=1000,callbacks=[callback])"
      ],
      "execution_count": null,
      "outputs": [
        {
          "output_type": "stream",
          "text": [
            "Epoch 1/1000\n",
            "1/1 [==============================] - 1s 1s/step - loss: 0.2874 - mean_squared_error: 0.2874 - mean_absolute_error: 0.5267 - mean_absolute_percentage_error: 80.7573\n",
            "Epoch 2/1000\n",
            "1/1 [==============================] - 0s 7ms/step - loss: 0.2819 - mean_squared_error: 0.2819 - mean_absolute_error: 0.5215 - mean_absolute_percentage_error: 79.9443\n",
            "Epoch 3/1000\n",
            "1/1 [==============================] - 0s 10ms/step - loss: 0.2714 - mean_squared_error: 0.2714 - mean_absolute_error: 0.5115 - mean_absolute_percentage_error: 78.3903\n",
            "Epoch 4/1000\n",
            "1/1 [==============================] - 0s 6ms/step - loss: 0.2566 - mean_squared_error: 0.2566 - mean_absolute_error: 0.4972 - mean_absolute_percentage_error: 76.1533\n",
            "Epoch 5/1000\n",
            "1/1 [==============================] - 0s 4ms/step - loss: 0.2382 - mean_squared_error: 0.2382 - mean_absolute_error: 0.4788 - mean_absolute_percentage_error: 73.2805\n",
            "Epoch 6/1000\n",
            "1/1 [==============================] - 0s 5ms/step - loss: 0.2170 - mean_squared_error: 0.2170 - mean_absolute_error: 0.4566 - mean_absolute_percentage_error: 69.8115\n",
            "Epoch 7/1000\n",
            "1/1 [==============================] - 0s 4ms/step - loss: 0.1936 - mean_squared_error: 0.1936 - mean_absolute_error: 0.4308 - mean_absolute_percentage_error: 65.7810\n",
            "Epoch 8/1000\n",
            "1/1 [==============================] - 0s 5ms/step - loss: 0.1687 - mean_squared_error: 0.1687 - mean_absolute_error: 0.4016 - mean_absolute_percentage_error: 61.2215\n",
            "Epoch 9/1000\n",
            "1/1 [==============================] - 0s 6ms/step - loss: 0.1431 - mean_squared_error: 0.1431 - mean_absolute_error: 0.3692 - mean_absolute_percentage_error: 56.1653\n",
            "Epoch 10/1000\n",
            "1/1 [==============================] - 0s 8ms/step - loss: 0.1177 - mean_squared_error: 0.1177 - mean_absolute_error: 0.3339 - mean_absolute_percentage_error: 50.6475\n",
            "Epoch 11/1000\n",
            "1/1 [==============================] - 0s 9ms/step - loss: 0.0931 - mean_squared_error: 0.0931 - mean_absolute_error: 0.2959 - mean_absolute_percentage_error: 44.7079\n",
            "Epoch 12/1000\n",
            "1/1 [==============================] - 0s 7ms/step - loss: 0.0702 - mean_squared_error: 0.0702 - mean_absolute_error: 0.2555 - mean_absolute_percentage_error: 38.3932\n",
            "Epoch 13/1000\n",
            "1/1 [==============================] - 0s 8ms/step - loss: 0.0497 - mean_squared_error: 0.0497 - mean_absolute_error: 0.2131 - mean_absolute_percentage_error: 31.7636\n",
            "Epoch 14/1000\n",
            "1/1 [==============================] - 0s 4ms/step - loss: 0.0325 - mean_squared_error: 0.0325 - mean_absolute_error: 0.1695 - mean_absolute_percentage_error: 24.9437\n",
            "Epoch 15/1000\n",
            "1/1 [==============================] - 0s 8ms/step - loss: 0.0190 - mean_squared_error: 0.0190 - mean_absolute_error: 0.1255 - mean_absolute_percentage_error: 18.0739\n",
            "Epoch 16/1000\n",
            "1/1 [==============================] - 0s 6ms/step - loss: 0.0096 - mean_squared_error: 0.0096 - mean_absolute_error: 0.0829 - mean_absolute_percentage_error: 11.4760\n",
            "Epoch 17/1000\n",
            "1/1 [==============================] - 0s 5ms/step - loss: 0.0041 - mean_squared_error: 0.0041 - mean_absolute_error: 0.0523 - mean_absolute_percentage_error: 7.2561\n",
            "Epoch 18/1000\n",
            "1/1 [==============================] - 0s 13ms/step - loss: 0.0021 - mean_squared_error: 0.0021 - mean_absolute_error: 0.0398 - mean_absolute_percentage_error: 6.3840\n",
            "Epoch 19/1000\n",
            "1/1 [==============================] - 0s 10ms/step - loss: 0.0032 - mean_squared_error: 0.0032 - mean_absolute_error: 0.0457 - mean_absolute_percentage_error: 8.3154\n",
            "Epoch 20/1000\n",
            "1/1 [==============================] - 0s 9ms/step - loss: 0.0063 - mean_squared_error: 0.0063 - mean_absolute_error: 0.0694 - mean_absolute_percentage_error: 12.3121\n",
            "Epoch 21/1000\n",
            "1/1 [==============================] - 0s 7ms/step - loss: 0.0107 - mean_squared_error: 0.0107 - mean_absolute_error: 0.0954 - mean_absolute_percentage_error: 16.4222\n"
          ],
          "name": "stdout"
        }
      ]
    },
    {
      "cell_type": "code",
      "metadata": {
        "id": "PZp4cd5Vm8xh"
      },
      "source": [
        "y_pred = model.predict(x_test)"
      ],
      "execution_count": null,
      "outputs": []
    },
    {
      "cell_type": "code",
      "metadata": {
        "colab": {
          "base_uri": "https://localhost:8080/",
          "height": 279
        },
        "id": "izTp0aDl2HbP",
        "outputId": "1c85017a-4faa-4d91-bebd-d5da44958f04"
      },
      "source": [
        "plt.scatter(y_test, y_pred)\n",
        "plt.xlabel('Actual output')\n",
        "plt.ylabel('Predicted Output')\n",
        "plt.show()"
      ],
      "execution_count": null,
      "outputs": [
        {
          "output_type": "display_data",
          "data": {
            "image/png": "[encoded data removed]",
            "text/plain": [
              "<Figure size 432x288 with 1 Axes>"
            ]
          },
          "metadata": {
            "tags": [],
            "needs_background": "light"
          }
        }
      ]
    },
    {
      "cell_type": "code",
      "metadata": {
        "colab": {
          "base_uri": "https://localhost:8080/"
        },
        "id": "GsMU55VU53nZ",
        "outputId": "989d35ff-a6ae-478d-e305-4e1a85ec58d4"
      },
      "source": [
        "Xnew = [[2],[6]]\n",
        "Xnew_transform = norm.transform(Xnew)\n",
        "# make a prediction\n",
        "ynew = model.predict(Xnew_transform)\n",
        "ynew = norm1.inverse_transform(ynew)\n",
        "# show the inputs and predicted outputs\n",
        "print(\"Predicted salary\",ynew[0],\"for\",Xnew[0],\"years\")\n",
        "print(\"Predicted salary\",ynew[1],\"for\",Xnew[1],\"years\")"
      ],
      "execution_count": null,
      "outputs": [
        {
          "output_type": "stream",
          "text": [
            "Predicted salary [1639326.6] for [2] years\n",
            "Predicted salary [2058148.2] for [6] years\n"
          ],
          "name": "stdout"
        }
      ]
    },
    {
      "cell_type": "code",
      "metadata": {
        "colab": {
          "base_uri": "https://localhost:8080/"
        },
        "id": "7TDuvSHiEJrJ",
        "outputId": "3e9e4abb-6691-411a-9144-eb39af7e9225"
      },
      "source": [
        "#testing model by user input\n",
        "\n",
        "year = float(input(\"Year of experience: \"))\n",
        "year_new = [[year]]\n",
        "year_transform = norm.transform(year_new)\n",
        "\n",
        "salary = model.predict(year_transform)\n",
        "salary = norm1.inverse_transform(salary)\n",
        "print(\"Predicted salary is\",str(salary).lstrip('[').rstrip(']'),\"for\",year,\"years\")\n"
      ],
      "execution_count": null,
      "outputs": [
        {
          "output_type": "stream",
          "text": [
            "Year of experience: 4\n",
            "Predicted salary is 1849772. for 4.0 years\n"
          ],
          "name": "stdout"
        }
      ]
    }
  ]
}